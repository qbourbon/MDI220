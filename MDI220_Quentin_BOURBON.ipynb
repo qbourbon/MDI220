{
  "nbformat": 4,
  "nbformat_minor": 0,
  "metadata": {
    "colab": {
      "provenance": [],
      "collapsed_sections": [
        "3HqigEl19mZU",
        "ioCERpp197L2",
        "D4ftNYrSIn0q",
        "kKwnRTj8VubL",
        "T10UGDQzM4Ov",
        "hVgye5pdjH1K",
        "6R8Rx93bjq6L",
        "CqRox4LqN-lO",
        "t6pnttQQuWIz",
        "SaFVqTxGUXLU",
        "BPBPIp-Q11Rw",
        "wsza1wBnH_qP",
        "f4ov_LXSVQoe",
        "1kXq0a6FWtwg",
        "05ytqTbzcCIg",
        "Uxe_k89KkHJA",
        "lCutGXNv_C6S"
      ]
    },
    "kernelspec": {
      "name": "python3",
      "display_name": "Python 3"
    },
    "language_info": {
      "name": "python"
    }
  },
  "cells": [
    {
      "cell_type": "code",
      "execution_count": 52,
      "metadata": {
        "id": "yTUelmCy7Mdf"
      },
      "outputs": [],
      "source": [
        "from scipy import stats\n",
        "import numpy as np                  # import a package with specified name\n",
        "from sklearn import linear_model    # import whole module\n",
        "from os import mkdir, rmdir, path   # import a function\n",
        "from inspect import getsourcelines  # get function source code\n",
        "import string\n",
        "import time\n",
        "import pandas as pd\n",
        "import matplotlib.pyplot as plt     # for plots\n",
        "import seaborn as sns               # for plots\n",
        "import datetime\n",
        "\n",
        "sns.set_palette(\"colorblind\")\n",
        "color_blind_list = sns.color_palette(\"colorblind\", 8)\n",
        "plt.style.use('bmh')"
      ]
    },
    {
      "cell_type": "code",
      "source": [
        "from google.colab import drive\n",
        "drive.mount('/content/drive')"
      ],
      "metadata": {
        "colab": {
          "base_uri": "https://localhost:8080/"
        },
        "id": "BObq6h_c8jUa",
        "outputId": "14e49c53-09ba-4d67-c46f-25368e018479"
      },
      "execution_count": 53,
      "outputs": [
        {
          "output_type": "stream",
          "name": "stdout",
          "text": [
            "Drive already mounted at /content/drive; to attempt to forcibly remount, call drive.mount(\"/content/drive\", force_remount=True).\n"
          ]
        }
      ]
    },
    {
      "cell_type": "markdown",
      "source": [
        "# Exercice 1 (Exploration des données, recherche de leur loi):"
      ],
      "metadata": {
        "id": "3HqigEl19mZU"
      }
    },
    {
      "cell_type": "markdown",
      "source": [
        "##### 1. Former un vecteur des coût des accidents (strictement) avant l’accident de Three Mile Island, en million dollars 2013 et supprimer toutes les observations (avec données) manquantes. Vous devez obtenir n = 55 observations x1,...,xn"
      ],
      "metadata": {
        "id": "ioCERpp197L2"
      }
    },
    {
      "cell_type": "code",
      "source": [
        "df = pd.read_csv('/content/drive/MyDrive/Colab Notebooks/NuclearPowerAccidents2016.csv')\n",
        "df.head()"
      ],
      "metadata": {
        "colab": {
          "base_uri": "https://localhost:8080/",
          "height": 0
        },
        "id": "rTA-SdV075lv",
        "outputId": "0f467946-7ff5-46ce-af4a-8c4d863e2112"
      },
      "execution_count": 54,
      "outputs": [
        {
          "output_type": "execute_result",
          "data": {
            "text/plain": [
              "        Date                                 Location  \\\n",
              "0  4/26/1986                            Kiev, Ukraine   \n",
              "1  3/11/2011              Fukushima Prefecture, Japan   \n",
              "2  12/8/1995                           Tsuruga, Japan   \n",
              "3  3/28/1979  Middletown, Pennsylvania, United States   \n",
              "4  9/11/1957                         Rocky Flats, USA   \n",
              "\n",
              "   Cost (millions 2013US$)  INES  Smyth Magnitude Region  \\\n",
              "0                 259336.0   7.0              8.0     EE   \n",
              "1                 166089.0   7.0              7.5      A   \n",
              "2                  15500.0   NaN              NaN      A   \n",
              "3                  10910.0   5.0              7.9    NaN   \n",
              "4                   8189.0   5.0              5.2    NaN   \n",
              "\n",
              "                                         Description  Fatalities  \n",
              "0  Mishandled reactor safety test at Chernobyl nu...        4056  \n",
              "1  An earthquake and tsunami caused emergency bac...         573  \n",
              "2  Japan's only fast breeder reactor Monju suffer...           0  \n",
              "3  Equipment failure and operator error contribut...           0  \n",
              "4  Fire starts and destroys plutonium processing ...           0  "
            ],
            "text/html": [
              "\n",
              "  <div id=\"df-f5515bdc-9e42-4b50-86a0-244066c70aa4\">\n",
              "    <div class=\"colab-df-container\">\n",
              "      <div>\n",
              "<style scoped>\n",
              "    .dataframe tbody tr th:only-of-type {\n",
              "        vertical-align: middle;\n",
              "    }\n",
              "\n",
              "    .dataframe tbody tr th {\n",
              "        vertical-align: top;\n",
              "    }\n",
              "\n",
              "    .dataframe thead th {\n",
              "        text-align: right;\n",
              "    }\n",
              "</style>\n",
              "<table border=\"1\" class=\"dataframe\">\n",
              "  <thead>\n",
              "    <tr style=\"text-align: right;\">\n",
              "      <th></th>\n",
              "      <th>Date</th>\n",
              "      <th>Location</th>\n",
              "      <th>Cost (millions 2013US$)</th>\n",
              "      <th>INES</th>\n",
              "      <th>Smyth Magnitude</th>\n",
              "      <th>Region</th>\n",
              "      <th>Description</th>\n",
              "      <th>Fatalities</th>\n",
              "    </tr>\n",
              "  </thead>\n",
              "  <tbody>\n",
              "    <tr>\n",
              "      <th>0</th>\n",
              "      <td>4/26/1986</td>\n",
              "      <td>Kiev, Ukraine</td>\n",
              "      <td>259336.0</td>\n",
              "      <td>7.0</td>\n",
              "      <td>8.0</td>\n",
              "      <td>EE</td>\n",
              "      <td>Mishandled reactor safety test at Chernobyl nu...</td>\n",
              "      <td>4056</td>\n",
              "    </tr>\n",
              "    <tr>\n",
              "      <th>1</th>\n",
              "      <td>3/11/2011</td>\n",
              "      <td>Fukushima Prefecture, Japan</td>\n",
              "      <td>166089.0</td>\n",
              "      <td>7.0</td>\n",
              "      <td>7.5</td>\n",
              "      <td>A</td>\n",
              "      <td>An earthquake and tsunami caused emergency bac...</td>\n",
              "      <td>573</td>\n",
              "    </tr>\n",
              "    <tr>\n",
              "      <th>2</th>\n",
              "      <td>12/8/1995</td>\n",
              "      <td>Tsuruga, Japan</td>\n",
              "      <td>15500.0</td>\n",
              "      <td>NaN</td>\n",
              "      <td>NaN</td>\n",
              "      <td>A</td>\n",
              "      <td>Japan's only fast breeder reactor Monju suffer...</td>\n",
              "      <td>0</td>\n",
              "    </tr>\n",
              "    <tr>\n",
              "      <th>3</th>\n",
              "      <td>3/28/1979</td>\n",
              "      <td>Middletown, Pennsylvania, United States</td>\n",
              "      <td>10910.0</td>\n",
              "      <td>5.0</td>\n",
              "      <td>7.9</td>\n",
              "      <td>NaN</td>\n",
              "      <td>Equipment failure and operator error contribut...</td>\n",
              "      <td>0</td>\n",
              "    </tr>\n",
              "    <tr>\n",
              "      <th>4</th>\n",
              "      <td>9/11/1957</td>\n",
              "      <td>Rocky Flats, USA</td>\n",
              "      <td>8189.0</td>\n",
              "      <td>5.0</td>\n",
              "      <td>5.2</td>\n",
              "      <td>NaN</td>\n",
              "      <td>Fire starts and destroys plutonium processing ...</td>\n",
              "      <td>0</td>\n",
              "    </tr>\n",
              "  </tbody>\n",
              "</table>\n",
              "</div>\n",
              "      <button class=\"colab-df-convert\" onclick=\"convertToInteractive('df-f5515bdc-9e42-4b50-86a0-244066c70aa4')\"\n",
              "              title=\"Convert this dataframe to an interactive table.\"\n",
              "              style=\"display:none;\">\n",
              "        \n",
              "  <svg xmlns=\"http://www.w3.org/2000/svg\" height=\"24px\"viewBox=\"0 0 24 24\"\n",
              "       width=\"24px\">\n",
              "    <path d=\"M0 0h24v24H0V0z\" fill=\"none\"/>\n",
              "    <path d=\"M18.56 5.44l.94 2.06.94-2.06 2.06-.94-2.06-.94-.94-2.06-.94 2.06-2.06.94zm-11 1L8.5 8.5l.94-2.06 2.06-.94-2.06-.94L8.5 2.5l-.94 2.06-2.06.94zm10 10l.94 2.06.94-2.06 2.06-.94-2.06-.94-.94-2.06-.94 2.06-2.06.94z\"/><path d=\"M17.41 7.96l-1.37-1.37c-.4-.4-.92-.59-1.43-.59-.52 0-1.04.2-1.43.59L10.3 9.45l-7.72 7.72c-.78.78-.78 2.05 0 2.83L4 21.41c.39.39.9.59 1.41.59.51 0 1.02-.2 1.41-.59l7.78-7.78 2.81-2.81c.8-.78.8-2.07 0-2.86zM5.41 20L4 18.59l7.72-7.72 1.47 1.35L5.41 20z\"/>\n",
              "  </svg>\n",
              "      </button>\n",
              "      \n",
              "  <style>\n",
              "    .colab-df-container {\n",
              "      display:flex;\n",
              "      flex-wrap:wrap;\n",
              "      gap: 12px;\n",
              "    }\n",
              "\n",
              "    .colab-df-convert {\n",
              "      background-color: #E8F0FE;\n",
              "      border: none;\n",
              "      border-radius: 50%;\n",
              "      cursor: pointer;\n",
              "      display: none;\n",
              "      fill: #1967D2;\n",
              "      height: 32px;\n",
              "      padding: 0 0 0 0;\n",
              "      width: 32px;\n",
              "    }\n",
              "\n",
              "    .colab-df-convert:hover {\n",
              "      background-color: #E2EBFA;\n",
              "      box-shadow: 0px 1px 2px rgba(60, 64, 67, 0.3), 0px 1px 3px 1px rgba(60, 64, 67, 0.15);\n",
              "      fill: #174EA6;\n",
              "    }\n",
              "\n",
              "    [theme=dark] .colab-df-convert {\n",
              "      background-color: #3B4455;\n",
              "      fill: #D2E3FC;\n",
              "    }\n",
              "\n",
              "    [theme=dark] .colab-df-convert:hover {\n",
              "      background-color: #434B5C;\n",
              "      box-shadow: 0px 1px 3px 1px rgba(0, 0, 0, 0.15);\n",
              "      filter: drop-shadow(0px 1px 2px rgba(0, 0, 0, 0.3));\n",
              "      fill: #FFFFFF;\n",
              "    }\n",
              "  </style>\n",
              "\n",
              "      <script>\n",
              "        const buttonEl =\n",
              "          document.querySelector('#df-f5515bdc-9e42-4b50-86a0-244066c70aa4 button.colab-df-convert');\n",
              "        buttonEl.style.display =\n",
              "          google.colab.kernel.accessAllowed ? 'block' : 'none';\n",
              "\n",
              "        async function convertToInteractive(key) {\n",
              "          const element = document.querySelector('#df-f5515bdc-9e42-4b50-86a0-244066c70aa4');\n",
              "          const dataTable =\n",
              "            await google.colab.kernel.invokeFunction('convertToInteractive',\n",
              "                                                     [key], {});\n",
              "          if (!dataTable) return;\n",
              "\n",
              "          const docLinkHtml = 'Like what you see? Visit the ' +\n",
              "            '<a target=\"_blank\" href=https://colab.research.google.com/notebooks/data_table.ipynb>data table notebook</a>'\n",
              "            + ' to learn more about interactive tables.';\n",
              "          element.innerHTML = '';\n",
              "          dataTable['output_type'] = 'display_data';\n",
              "          await google.colab.output.renderOutput(dataTable, element);\n",
              "          const docLink = document.createElement('div');\n",
              "          docLink.innerHTML = docLinkHtml;\n",
              "          element.appendChild(docLink);\n",
              "        }\n",
              "      </script>\n",
              "    </div>\n",
              "  </div>\n",
              "  "
            ]
          },
          "metadata": {},
          "execution_count": 54
        }
      ]
    },
    {
      "cell_type": "code",
      "source": [
        "df['Date'] = pd.to_datetime(df['Date'])\n",
        "mask = df['Date'] < '28/03/1979'\n",
        "df_before_accident = df[mask]\n",
        "df_cost = df_before_accident['Cost (millions 2013US$)']\n",
        "df_cost = df_cost.dropna(axis=0)\n",
        "df_cost.head()"
      ],
      "metadata": {
        "colab": {
          "base_uri": "https://localhost:8080/"
        },
        "id": "wjC4M9HI9FLY",
        "outputId": "d947c6a3-254a-4d58-8a41-73777fe5f860"
      },
      "execution_count": 55,
      "outputs": [
        {
          "output_type": "execute_result",
          "data": {
            "text/plain": [
              "4    8189.0\n",
              "5    4400.0\n",
              "6    3500.0\n",
              "7    2900.0\n",
              "8    2500.0\n",
              "Name: Cost (millions 2013US$), dtype: float64"
            ]
          },
          "metadata": {},
          "execution_count": 55
        }
      ]
    },
    {
      "cell_type": "code",
      "source": [
        "df_cost.size"
      ],
      "metadata": {
        "colab": {
          "base_uri": "https://localhost:8080/"
        },
        "id": "adZp_VgBEth6",
        "outputId": "ba6b12e4-cf2b-408f-c4e0-077e2fe11b1f"
      },
      "execution_count": 56,
      "outputs": [
        {
          "output_type": "execute_result",
          "data": {
            "text/plain": [
              "55"
            ]
          },
          "metadata": {},
          "execution_count": 56
        }
      ]
    },
    {
      "cell_type": "markdown",
      "source": [
        "### 2. Construction d’un QQ-plot normal."
      ],
      "metadata": {
        "id": "D4ftNYrSIn0q"
      }
    },
    {
      "cell_type": "markdown",
      "source": [
        "Exprimons la fonction de répartition de $X ~ N(μ, σ²)$  à l'aide de la fonction de répartition de $Y ~ N(0, 1)$. \\\\\n",
        "On a: $$F(X ≤ x) = \\frac{1}{\\sqrt{2πσ²}} \\int_{-∞}^x exp(\\frac{(t-μ)²}{2σ²})  dt $$\t\\\\\n",
        "On procède au changement de variable $$ u = \\frac{t-μ}{σ} $$ et on obtient: \n",
        "$$ F(X ≤ x) = \\frac{σ}{\\sqrt{2πσ²}} \\int_{-∞}^{\\frac{x-μ}{σ}} exp(\\frac{u²}{2})  du $$\t\\\\\n",
        "D'où: $$ F(X ≤ x) = F(Y ≤ \\frac{x-μ}{σ}) $$ \\\\\n",
        "Par conséquent, $F(X ≤ x) = p$ équivaut à $\\frac{x-μ}{σ} = F^{-1}(p; 0, 1)$, et donc $x = μ + σ F^{-1}(p; 0, 1)$ \\\\\n",
        "Ainsi, on a montré que: $$F^{-1}(p; μ, σ²) = μ + σ F^{-1}(p; 0, 1) $$\n",
        "\n",
        "\n"
      ],
      "metadata": {
        "id": "sp7g-VVOIvSb"
      }
    },
    {
      "cell_type": "code",
      "source": [
        "from scipy import stats\n",
        "_, _ = stats.probplot(df_cost, dist='norm', plot = plt)\n",
        "plt.show()"
      ],
      "metadata": {
        "colab": {
          "base_uri": "https://localhost:8080/",
          "height": 0
        },
        "id": "NixrxB5JKtSO",
        "outputId": "59b327c5-f2b2-4310-9d78-968116e48303"
      },
      "execution_count": 57,
      "outputs": [
        {
          "output_type": "display_data",
          "data": {
            "text/plain": [
              "<Figure size 432x288 with 1 Axes>"
            ],
            "image/png": "[encoded data removed]"
          },
          "metadata": {
            "needs_background": "light"
          }
        }
      ]
    },
    {
      "cell_type": "markdown",
      "source": [
        "La modélisation normale ne semble pas très adaptée sur notre dataframe."
      ],
      "metadata": {
        "id": "6LMjUgwhMiFU"
      }
    },
    {
      "cell_type": "markdown",
      "source": [
        "## 3. Construction d’un QQ-plot exponentiel."
      ],
      "metadata": {
        "id": "kKwnRTj8VubL"
      }
    },
    {
      "cell_type": "markdown",
      "source": [
        "La fonction de répartition d'une loi exponentielle de paramètre λ est: \n",
        "$$ F(X ≤ x) = 1 - exp(-λx) $$\\\n",
        "Ainsi $$F(X ≤ x) = p$$ équivaut à $$x = - \\frac{ln(1-p)}{λ}$$. \\\\\n",
        "D'où: $$ F^{-1}(p; λ) = - \\frac{ln(1-p)}{λ}$$ et $$F^{-1}(p; 1) = - ln(1-p) $$\\\n",
        "On retrouve bien: $$F^{-1}(p; λ) = \\frac{F^{-1}(p; 1)}{λ}$$ "
      ],
      "metadata": {
        "id": "MaT2h2c4V0RM"
      }
    },
    {
      "cell_type": "code",
      "source": [
        "_, _ = stats.probplot(df_cost, dist='expon', plot = plt)\n",
        "plt.show()"
      ],
      "metadata": {
        "colab": {
          "base_uri": "https://localhost:8080/",
          "height": 0
        },
        "id": "DTKZa7GDMtdK",
        "outputId": "e9504d23-ac84-4271-badf-751f55da26b2"
      },
      "execution_count": 58,
      "outputs": [
        {
          "output_type": "display_data",
          "data": {
            "text/plain": [
              "<Figure size 432x288 with 1 Axes>"
            ],
            "image/png": "[encoded data removed]"
          },
          "metadata": {
            "needs_background": "light"
          }
        }
      ]
    },
    {
      "cell_type": "markdown",
      "source": [
        "## 4. Loi la plus plausible"
      ],
      "metadata": {
        "id": "T10UGDQzM4Ov"
      }
    },
    {
      "cell_type": "markdown",
      "source": [
        "Le diagramme QQ permetd'évaluer la pertinence de l'ajustement d'une distribution donnée à un modèle théorique. \\\\\n",
        "Plus les points de notre dataset sont proches de la droite théorique rouge, plus le modèle théorique est bon. \\\\\n",
        "Clairement, la courbe obtenue avec la loi exponentielle permet au point d'épouser bien mieux cette courbe par rapport à la droite obtenue avec la loi normale. \\\\\n",
        "On pourrait par exemple calculer l'erreur quadratique moyenne pour s'appercevoir que celle obtenue avec la loi normale est nettement supérieur à celle obtenue avec la loi exponentielle."
      ],
      "metadata": {
        "id": "XLDHiZrLM_EL"
      }
    },
    {
      "cell_type": "markdown",
      "source": [
        "# Exercice 2 : Estimation ponctuelle des paramètres d’une loi exponentielle"
      ],
      "metadata": {
        "id": "hVgye5pdjH1K"
      }
    },
    {
      "cell_type": "markdown",
      "source": [
        "## 1. Indicateur de vraissemblance d'une loi exponentielle."
      ],
      "metadata": {
        "id": "6R8Rx93bjq6L"
      }
    },
    {
      "cell_type": "markdown",
      "source": [
        "L'indépendance des $X_{i}$ implique que la vraissemblance des observations est donnée par le produit des densités: $$p(X_{1} = x_{1}, ..., X_{n} = x_{n}; λ) = λ^{n} exp(-λ \\sum_{i=1}^n x_{i})$$ \\\\\n",
        "La log-vraissemblance est: $$ln(p(X, λ)) = n ln(λ) - λ \\sum_{i=1}^n x_{i}$$ \\\\\n",
        "En annulant la dérivée par rapport à t, on obtient l'estimateur de vraissemblance: $$\\hat{λ_{n}} =  \\frac{n}{\\sum_{i=1}^n x_{i}} = \\frac{1}{\\bar{X_{n}}}$$ \\\\"
      ],
      "metadata": {
        "id": "wzQsJ3vWj3j4"
      }
    },
    {
      "cell_type": "markdown",
      "source": [
        "## 2. Histogramme de données et densité de probabilité de la loi exponentielle"
      ],
      "metadata": {
        "id": "CqRox4LqN-lO"
      }
    },
    {
      "cell_type": "code",
      "source": [
        "theta = df_cost.size / np.sum(df_cost) \n",
        "exp_density = theta * np.exp(-theta * df_cost)\n",
        "_ = plt.hist(df_cost, bins=20, density=True)\n",
        "_ = plt.plot(df_cost, exp_density)\n",
        "plt.show()"
      ],
      "metadata": {
        "colab": {
          "base_uri": "https://localhost:8080/",
          "height": 0
        },
        "id": "D0KfNrVROE0e",
        "outputId": "4629627a-014b-4efc-b680-dc073e594b12"
      },
      "execution_count": 59,
      "outputs": [
        {
          "output_type": "display_data",
          "data": {
            "text/plain": [
              "<Figure size 432x288 with 1 Axes>"
            ],
            "image/png": "[encoded data removed]"
          },
          "metadata": {
            "needs_background": "light"
          }
        }
      ]
    },
    {
      "cell_type": "markdown",
      "source": [
        "## 3. Estimateur efficace pour $g_{1}(λ)$"
      ],
      "metadata": {
        "id": "t6pnttQQuWIz"
      }
    },
    {
      "cell_type": "markdown",
      "source": [
        "Pour que $T_{1}(X)$ soit un estimateur efficace pour $g_{1}(λ)$, il faut qu'il soit non biaisé et qu'il atteint la borne de Cramér-Rao. \\\\\n",
        "Par linéarité de l'espérence, $T_{1}(X)$ est de biais nul, il suffit donc qu'il atteint la borne de Cramér-Rao: $$Var_{λ}(T_{1}(X)) ≥ \\frac{g'(λ)²}{I(λ)}$$ \\\\\n",
        "D'une part on a $$g'(λ) = - \\frac{1}{λ²}$$ \\\\\n",
        "Et : $$I(λ) = - E_{λ} (\\frac{\\partial^2 ln(p)}{\\partial x^2}(X; λ))$$ \\\\\n",
        "Or $$p(x; λ) = - λ^{n} exp(- λ \\sum_{i=1}^n x_{i}) $$\\\n",
        "D'où: $$ln(p) = n ln(λ) - λ \\sum_{i=1}^n x_{i}$$ \\\\\n",
        "Puis: $$\\frac{\\partial^2 ln(p)}{\\partial x^2}(X; λ) = - \\frac{n}{λ²}$$ \\\\\n",
        "On en déduit $$I(λ) = \\frac{n}{λ²}$$ Puis $$\\frac{g'(λ)}{I(λ)} = \\frac{1}{n λ²}$$ \\\\\n",
        "D'autre par, par indépendance des $X_{i}$, $$Var_{λ}(T_{1}(X)) = \\frac{1}{n²} \\sum_{i=1}^n Var(X_{i})$$ \\\\\n",
        "Donc $$Var_{λ}(T_{1}(X)) = \\frac{1}{n λ²}$$ \\\\\n",
        "On a bien égalité, et par conséquent $T_{1}(X)$ est un estimateur efficace pour $g_{1}(λ)$"
      ],
      "metadata": {
        "id": "z23iUzSqunTO"
      }
    },
    {
      "cell_type": "markdown",
      "source": [
        "## 4. Calcul de $g_{1}$"
      ],
      "metadata": {
        "id": "SaFVqTxGUXLU"
      }
    },
    {
      "cell_type": "code",
      "source": [
        "g1 = np.sum(df_cost) / df_cost.size\n",
        "g1"
      ],
      "metadata": {
        "colab": {
          "base_uri": "https://localhost:8080/"
        },
        "id": "dqmDPtTSUecL",
        "outputId": "163cad08-d39b-4304-d12b-ff4d3f973968"
      },
      "execution_count": 60,
      "outputs": [
        {
          "output_type": "execute_result",
          "data": {
            "text/plain": [
              "726.3363636363637"
            ]
          },
          "metadata": {},
          "execution_count": 60
        }
      ]
    },
    {
      "cell_type": "markdown",
      "source": [
        "## 5. Etude de $\\tilde{T}_{1, η}(X) = η T_{1}(X)$"
      ],
      "metadata": {
        "id": "BPBPIp-Q11Rw"
      }
    },
    {
      "cell_type": "markdown",
      "source": [
        "D'une part, on a $$R(λ, T_{1}) = b(λ, \\hat{g})² + Var(\\hat{g}(X)) = Var(\\hat{g}(X)) = \\frac{1}{n λ²}$$ car $T_{1}$ est de biais nul. \\\\\n",
        "D'autre part, $\\tilde{T}_{1, η}(X)$ est biaisé de biais = $\\frac{η - 1}{λ}$ (par linéarité de l'espérence) \\\\\n",
        "Puis, par propriété quadratique de la variance: $$Var(\\tilde{T}_{1, η}(X)) = \\frac{η²}{n λ²}$$ \\\\\n",
        "Donc l'erreur quadratique moyenne vaut: $$R(λ, \\tilde{T}_{1, η}) = \\frac{(η - 1)²}{λ²} + \\frac{η²}{n λ²}$$ \\\\\n",
        "Une résolution de $R(λ, \\tilde{T}_{1, η}) < R(λ, T_{1})$ sur $η$ nous ammène à $$\\frac{n-1}{n+1} < η < 1$$ \\\\\n",
        "Pour ces valeurs de $η$, l'erreur quadratique moyenne est plus faible pour $\\tilde{T}_{1, η}$ que pour $T_{1}$: $\\tilde{T}_{1, η}$ est une meilleur estimateur que $T_{1}$ dans le sens de l'erreur quadratique moyenne. \\\\\n",
        "Cependant, cela n'est pas en contradiction avec la question précédente, car $\\tilde{T}_{1, η}$ n'est pas sans biais."
      ],
      "metadata": {
        "id": "EKW8Y7-N3z3n"
      }
    },
    {
      "cell_type": "markdown",
      "source": [
        "## 6. Estimateur sans biais de la médiane"
      ],
      "metadata": {
        "id": "wsza1wBnH_qP"
      }
    },
    {
      "cell_type": "markdown",
      "source": [
        "La médiane est atteinte pour $x$ tel que: $$F(X ≤ x) = 0.5$$ \\\\\n",
        "C'est-à-dire tel que: $$1 - exp(-λx) = 0.5$$ \\\\\n",
        "Soit pour $$x = \\frac{ln(2)}{λ}$$\n",
        "Par linéarité de l'espérence, on cherche donc $η$ tel que $$E(\\tilde{T}_{1, η}(X)) = \\frac{ln(2)}{λ}$$ \\\\\n",
        "Autrement dit, on cherche $η$ tel que $$\\frac{η}{λ} = \\frac{ln(2)}{λ}$$ \\\\\n",
        "Soit: $$η = ln(2)$$"
      ],
      "metadata": {
        "id": "C2XAgYiPIEzm"
      }
    },
    {
      "cell_type": "markdown",
      "source": [
        "##### Calcul de l'estimateur pour cette valeur de $η$ et médiane empirique"
      ],
      "metadata": {
        "id": "f4ov_LXSVQoe"
      }
    },
    {
      "cell_type": "code",
      "source": [
        "eta = np.log(2)\n",
        "g_eta = eta * g1\n",
        "median = np.median(df_cost)\n",
        "\n",
        "print(f'g_eta = {g_eta}')\n",
        "print(f'Médiane empirique = {median}')"
      ],
      "metadata": {
        "colab": {
          "base_uri": "https://localhost:8080/"
        },
        "id": "W-SsTr8ZJ5y-",
        "outputId": "cc3b1ea3-7446-4316-a512-14cf49dc239d"
      },
      "execution_count": 61,
      "outputs": [
        {
          "output_type": "stream",
          "name": "stdout",
          "text": [
            "g_eta = 503.4580025927086\n",
            "Médiane empirique = 89.9\n"
          ]
        }
      ]
    },
    {
      "cell_type": "markdown",
      "source": [
        "La forte différence peut s'expliquer par notre dataset qui est assez petit."
      ],
      "metadata": {
        "id": "UowPeWBoWfDV"
      }
    },
    {
      "cell_type": "markdown",
      "source": [
        "## 7. Comparaison des risques quadratiques"
      ],
      "metadata": {
        "id": "1kXq0a6FWtwg"
      }
    },
    {
      "cell_type": "markdown",
      "source": [
        "D'après le point 5., $R(λ, \\tilde{T}_{1, η}) < R(λ, T_{1})$ équivaut à $\\frac{n-1}{n+1} < η < 1$. \\\\\n",
        "Or ici $η = ln(2) < 1$. \\\\\n",
        "On a donc $R(λ, \\tilde{T}_{1, η}) < R(λ, T_{1})$ pour n tel que $\\frac{n-1}{n+1} < ln(2)$, c'est à dire pour $n < \\frac{1 + ln(2)}{1 - ln(2)}$, d'où $n < 6$. Vu la taille du dataframe (55) on s'attend à avoir $R(λ, \\tilde{T}_{1, η}) > R(λ, T_{1})$. \\\\\n",
        "Je rappelle les formules établies au point 5. : $$R(λ, \\tilde{T}_{1, η}) = \\frac{(η - 1)²}{λ²} + \\frac{η²}{n λ²}$$ et $$R(λ, T_{1}) = \\frac{1}{n λ²}$$\n"
      ],
      "metadata": {
        "id": "iFX2K-b0W2Sd"
      }
    },
    {
      "cell_type": "code",
      "source": [
        "n = df_cost.size\n",
        "R_tild = ( (eta - 1)  / theta )**2 + eta**2 / (n*theta**2)\n",
        "R_ = 1 / (n*theta**2 )\n",
        "print(f'R_T_tild = {R_tild}')\n",
        "print(f'R_T1 = {R_}')"
      ],
      "metadata": {
        "colab": {
          "base_uri": "https://localhost:8080/"
        },
        "id": "DiFbJ2dnY6TZ",
        "outputId": "ef755af6-8457-4e74-e60b-bcfb876970c8"
      },
      "execution_count": 62,
      "outputs": [
        {
          "output_type": "stream",
          "name": "stdout",
          "text": [
            "R_T_tild = 54283.3085555902\n",
            "R_T1 = 9592.082057099926\n"
          ]
        }
      ]
    },
    {
      "cell_type": "markdown",
      "source": [
        "On a bien le résultat attendu."
      ],
      "metadata": {
        "id": "p9kLs1stZiwa"
      }
    },
    {
      "cell_type": "markdown",
      "source": [
        "# Exercice 3 : Test sur le paramètre d’une loi"
      ],
      "metadata": {
        "id": "x3Svy8I7Zl8D"
      }
    },
    {
      "cell_type": "markdown",
      "source": [
        "## 1. Hypothèse nulle est hypothèse alternative"
      ],
      "metadata": {
        "id": "05ytqTbzcCIg"
      }
    },
    {
      "cell_type": "markdown",
      "source": [
        "La probabilité d'une loi exponentielle étant $1 / λ$ on a que:\n",
        "\n",
        "\n",
        "*   L'hypothèse nulle $H_{0}$: $λ > \\frac{1}{1000}$\n",
        "*   L'hypothèse alternative $H_{1}$: $λ ≤ \\frac{1}{1000}$\n",
        "\n",
        "\n"
      ],
      "metadata": {
        "id": "07Q8_KOucG1t"
      }
    },
    {
      "cell_type": "markdown",
      "source": [
        "## 2. Test le plus puissant pour le niveau $α$"
      ],
      "metadata": {
        "id": "Uxe_k89KkHJA"
      }
    },
    {
      "cell_type": "markdown",
      "source": [
        "Prenons $λ_{0} > λ_{1}$.\n",
        "Le rapport de vraissemblance $Z$ est: $$Z(x) = \\frac{p_{λ_{0}}(x)}{p_{λ_{1}}(x)} = (\\frac{λ_{0}}{λ_{1}})^{n} exp((λ_{1} - λ_{0}) \\sum_{i=1}^n x_{i}) = (\\frac{λ_{1}}{λ_{0}})^{n} exp((λ_{0} - λ_{1}) T(X)) = f(T(X))$$\n",
        "Avec $T(X) = \\sum_{i=1}^n x_{i}$. \\\\\n",
        "Puisque $λ_{0} > λ_{1}$, f est strictement décroissante, elle satisfait l'hypothèse MON.\n",
        "D'après le théorème de Neyman-Pearson, on rejette $H_{0}$ si $T(X) < c$, où $c$ est tel que $P(T(X) < c) = α$ où l'on suppose $H_{0}$, c'est-à-dire $λ_{0} > \\frac{1}{1000}$. \\\n",
        "Or $T(X)$ suit une loi $Γ(n, λ_{0})$ car c'est une somme de lois exponentielles iid. \\\\\n",
        "Donc on peut obtenir $$c = F^{-1}(α; n, λ_{0})$$"
      ],
      "metadata": {
        "id": "TFUokoFA9Fs4"
      }
    },
    {
      "cell_type": "markdown",
      "source": [
        "## 3. Test pour $α = 0.05$"
      ],
      "metadata": {
        "id": "7QXCuOBJPxwE"
      }
    },
    {
      "cell_type": "code",
      "source": [
        "alpha = 0.05\n",
        "lambda0 = 1/999 # On suppose H0, c'est-à-dire que lambda0 > 1/1000\n",
        "n = df_cost.size\n",
        "c = stats.gamma.ppf(q=alpha, a=n, scale=1/lambda0)\n",
        "print(f'On rejette H0 : {np.sum(df_cost) < c}')"
      ],
      "metadata": {
        "colab": {
          "base_uri": "https://localhost:8080/"
        },
        "id": "TRxmZSUzUV1N",
        "outputId": "b124954a-7bfa-4589-c98f-3738070615e0"
      },
      "execution_count": 63,
      "outputs": [
        {
          "output_type": "stream",
          "name": "stdout",
          "text": [
            "On rejette H0 : True\n"
          ]
        }
      ]
    },
    {
      "cell_type": "markdown",
      "source": [
        "Ainsi, on rejette $H_{0}$: le coût moyen d'accident est supérieur à 1 milliard de dollars."
      ],
      "metadata": {
        "id": "r7rH9hL4Zh9H"
      }
    },
    {
      "cell_type": "markdown",
      "source": [
        "La p-valeur est la probabilité que, sous $H_{0}$, la statistique de\n",
        "test prenne une valeur au moins aussi extrême que celle qui a\n",
        "été observée, c'est-à-dire: $$ p = P(\\sum_{i=1}^n X_i < \\sum_{i=1}^n \\bar{X_{i}} ) $$\n",
        "D'où $$ p = F(\\sum_{i=1}^n \\bar{X_{i}}; n, λ_{0}) $$"
      ],
      "metadata": {
        "id": "LSuS5JeGardE"
      }
    },
    {
      "cell_type": "code",
      "source": [
        "p_valeur = stats.gamma.cdf(x=np.sum(df_cost), a=n, scale=1/lambda0)\n",
        "print(f'On rejette H0: {p_valeur < alpha}')\n",
        "print(f'p_valeur = {p_valeur}')"
      ],
      "metadata": {
        "colab": {
          "base_uri": "https://localhost:8080/"
        },
        "id": "3BQC8bbZP5PP",
        "outputId": "93fd389d-8686-40f5-b978-754bde6b8137"
      },
      "execution_count": 64,
      "outputs": [
        {
          "output_type": "stream",
          "name": "stdout",
          "text": [
            "On rejette H0: True\n",
            "p_valeur = 0.013953688417941978\n"
          ]
        }
      ]
    },
    {
      "cell_type": "markdown",
      "source": [
        "La p-valeur est inférieur à $α$, nous pouvons alors rejeter $H_{0}$: le coût moyen d'accident est supérieur à 1 milliard de dollars."
      ],
      "metadata": {
        "id": "4e3qq1-6S3I6"
      }
    },
    {
      "cell_type": "markdown",
      "source": [
        "## 4. Densité de probabilité T1"
      ],
      "metadata": {
        "id": "I5QgIOMlkQ4P"
      }
    },
    {
      "cell_type": "code",
      "source": [
        "lambda0 = 1/1000\n",
        "start = 400\n",
        "end = 1630\n",
        "density_function = stats.gamma.pdf(x=np.linspace(start*n, n*end, end-start), a=n, scale=1/lambda0)\n",
        "plt.plot(np.linspace(start, end, end-start), density_function)\n",
        "plt.axvline(x=c/n, color = 'g', label = 'Frontière région de rejet')\n",
        "plt.legend()\n",
        "plt.show()"
      ],
      "metadata": {
        "colab": {
          "base_uri": "https://localhost:8080/",
          "height": 0
        },
        "id": "pzQwh5Mvhk-f",
        "outputId": "82170d55-94ff-4f46-f00d-577ea6c152c3"
      },
      "execution_count": 65,
      "outputs": [
        {
          "output_type": "display_data",
          "data": {
            "text/plain": [
              "<Figure size 432x288 with 1 Axes>"
            ],
            "image/png": "[encoded data removed]"
          },
          "metadata": {
            "needs_background": "light"
          }
        }
      ]
    },
    {
      "cell_type": "markdown",
      "source": [
        "La région de rejet au seuil $α = 0.05$ se situe à gauche de la frontière."
      ],
      "metadata": {
        "id": "AUKiBkPn2pyH"
      }
    },
    {
      "cell_type": "markdown",
      "source": [
        "## 5. Fonction puissance de test"
      ],
      "metadata": {
        "id": "lCutGXNv_C6S"
      }
    },
    {
      "cell_type": "markdown",
      "source": [
        "La puissance d'un test est la probabilité qu'en supposant $H_{1}$ ($λ_{1} < \\frac{1}{1000}$) on ait $H_{1}$ \\\\\n",
        "Autrement dit la fonction puissance de test vaut: \n",
        "$$puissance(λ_{1}) = P(\\frac{1}{n}\\sum_{i=1}^nX_{i} > 1000)$$\n",
        "D'où:$$puissance(λ_{1}) = 1 - P(\\sum_{i=1}^nX_{i} < 1000n)$$"
      ],
      "metadata": {
        "id": "CHLdg-Uo_F4g"
      }
    },
    {
      "cell_type": "code",
      "source": [
        "def fonction_puissance_test(n):\n",
        "  lambda1 = np.linspace(1/10000000, 1/1000, 100)\n",
        "  p = 1 - stats.gamma.cdf(x=1000*n, a=n, scale=1/lambda1)\n",
        "  plt.plot(lambda1, p, label=f'n={n}')"
      ],
      "metadata": {
        "id": "Sy5Tm7ustMtt"
      },
      "execution_count": 66,
      "outputs": []
    },
    {
      "cell_type": "code",
      "source": [
        "fonction_puissance_test(10)\n",
        "fonction_puissance_test(50)\n",
        "fonction_puissance_test(100)\n",
        "fonction_puissance_test(500)\n",
        "fonction_puissance_test(100000)\n",
        "plt.legend()\n",
        "plt.show()"
      ],
      "metadata": {
        "colab": {
          "base_uri": "https://localhost:8080/",
          "height": 0
        },
        "id": "h0vBrBnVDvsM",
        "outputId": "2f12d0e7-2fd8-4961-e9d3-2ec7a08c65cc"
      },
      "execution_count": 67,
      "outputs": [
        {
          "output_type": "display_data",
          "data": {
            "text/plain": [
              "<Figure size 432x288 with 1 Axes>"
            ],
            "image/png": "[encoded data removed]"
          },
          "metadata": {
            "needs_background": "light"
          }
        }
      ]
    },
    {
      "cell_type": "markdown",
      "source": [
        "Lorsque $λ$ est petit, alors on se situe loin de la région $Θ_{0}$ est donc la probabilité d'avoir $H_{1}$ est quasiment égale à 1. \\\\\n",
        "Lorsque $λ$ grandit, on se rapproche de la zone où $λ$ appartient à $Θ_{0}$, et donc la probabilité diminue et se rapproche de 0.5. \\\\\n",
        "D'après la loi des grands nombres, plus la taille de l'échantillon augmente, plus la probabilité que l'espérance égale à l'espérance théorique est proche de 1. Ainsi, ici l'espérance théorique étant inférieure à 1000n, on observe bien que plus la taille de l'échantillon augmente, plus la probabilité est quasiment égale à 1 sur tout le domaine $Θ_{1}$. \\\\\n",
        "Autrement dit, plus la taille de l'échantillon est élevé, plus la puissance du test l'est aussi, ce qui parait logique."
      ],
      "metadata": {
        "id": "2HoKG82Zvm70"
      }
    },
    {
      "cell_type": "markdown",
      "source": [
        "## 6. Approximation de la loi $T_{1}$ et nouveau test"
      ],
      "metadata": {
        "id": "kgkjOBgNxlVg"
      }
    },
    {
      "cell_type": "markdown",
      "source": [
        "Les $X_{i}$ étant iid, on peut leur appliquer le théorème central limite. \\\\On rappelle qu'on a pour des lois exponentielles: $$E(X) = \\frac{1}{λ}$$ et $$V(X) = \\frac{1}{λ²}$$\n",
        "Donc: $$\\lim\\limits_{n \\to ∞}P(\\frac{T_{1}(X)-1/λ}{\\sqrt{n}/λ} < c) = F(c; 0, 1)$$\n",
        "Où $F$ est la fonction de répartition d'une loi normale de paramètres $(0, 1)$.\n",
        "Donc $T_{1}$ suit une loi normale de paramètres $(\\frac{1}{λ}, \\frac{1}{nλ^2})$."
      ],
      "metadata": {
        "id": "31liFgqlxtCK"
      }
    },
    {
      "cell_type": "markdown",
      "source": [
        "Créons maintenant un nouveau test. \\\\\n",
        "Supposons $H_{0}$ à la frontière pour que le risque de première espèce soit maximal: $λ_{0} = 1/1000$\\\n",
        "Regardons pour quel $c$ nous avons: $$P(T_{1}(X) < c) = α$$\n",
        "Le test est donc de rejeter $H_{0}$ si $$T_{1}(X) < c$$"
      ],
      "metadata": {
        "id": "lhCChjb6Htga"
      }
    },
    {
      "cell_type": "code",
      "source": [
        "alpha = 0.05\n",
        "lambda0 = 1/1000 # On suppose H0 à la frontière\n",
        "n = df_cost.size\n",
        "c = stats.norm.ppf(q=alpha, loc=1/lambda0, scale=np.sqrt(1/(n*(lambda0**2))))\n",
        "print(f'On rejette H0 : {(1/n)*np.sum(df_cost) < c}')\n",
        "print(f'c={c}')"
      ],
      "metadata": {
        "colab": {
          "base_uri": "https://localhost:8080/"
        },
        "id": "klSOfQisI_Gl",
        "outputId": "3da2d7e9-e640-4be8-8a8a-14378d2f60c1"
      },
      "execution_count": 68,
      "outputs": [
        {
          "output_type": "stream",
          "name": "stdout",
          "text": [
            "On rejette H0 : True\n",
            "c=778.2079821874304\n"
          ]
        }
      ]
    },
    {
      "cell_type": "markdown",
      "source": [
        "Ainsi, on rejette $H_{0}$: le coût moyen d'accident est supérieur à 1 milliard de dollars.\n",
        "Nous pouvons chercher la p-valeur de la même manière que pour la question 3:\n",
        "$$p = P(T_{1}(X) < \\bar{X_{n}})$$"
      ],
      "metadata": {
        "id": "NSAkpw9oJp72"
      }
    },
    {
      "cell_type": "code",
      "source": [
        "p_valeur = stats.norm.cdf(x=(1/n)*np.sum(df_cost), loc=1/lambda0, scale=np.sqrt(1/(n*(lambda0**2))))\n",
        "print(f'On rejette H0: {p_valeur < alpha}')\n",
        "print(f'p_valeur = {p_valeur}')"
      ],
      "metadata": {
        "colab": {
          "base_uri": "https://localhost:8080/"
        },
        "id": "XYIDLDq8KOPf",
        "outputId": "b57ea9ae-6f6c-44ab-91ce-f579b9344845"
      },
      "execution_count": 69,
      "outputs": [
        {
          "output_type": "stream",
          "name": "stdout",
          "text": [
            "On rejette H0: True\n",
            "p_valeur = 0.021201463906399102\n"
          ]
        }
      ]
    },
    {
      "cell_type": "markdown",
      "source": [
        "La p-valeur est inférieur à $α$, nous pouvons alors rejeter $H_{0}$: le coût moyen d'accident est supérieur à 1 milliard de dollars."
      ],
      "metadata": {
        "id": "St6BwTQfMCEs"
      }
    },
    {
      "cell_type": "code",
      "source": [
        "start = 500\n",
        "end = 1500\n",
        "density_function = stats.norm.pdf(x=np.linspace(start, end, end-start), loc=1/lambda0, scale=np.sqrt(1/(n*(lambda0**2))))\n",
        "plt.plot(np.linspace(start, end, end-start), density_function)\n",
        "plt.axvline(x=c, color = 'g', label = 'Frontière région de rejet')\n",
        "plt.legend()\n",
        "plt.show()"
      ],
      "metadata": {
        "colab": {
          "base_uri": "https://localhost:8080/",
          "height": 0
        },
        "id": "T6MssPkfKiKO",
        "outputId": "39110d65-380f-4486-929e-c08e3a6fed0e"
      },
      "execution_count": 70,
      "outputs": [
        {
          "output_type": "display_data",
          "data": {
            "text/plain": [
              "<Figure size 432x288 with 1 Axes>"
            ],
            "image/png": "[encoded data removed]"
          },
          "metadata": {
            "needs_background": "light"
          }
        }
      ]
    },
    {
      "cell_type": "markdown",
      "source": [
        "La région de rejet au seuil $α = 0.05$ se situe à gauche de la frontière."
      ],
      "metadata": {
        "id": "RDTg_TRYMSmY"
      }
    },
    {
      "cell_type": "markdown",
      "source": [
        "On pourrait également tracé les fonctions puissances de test comme précédemment.\n",
        "$$puissance(λ_{1}) = 1 - P(T_{1}(X) < 1000n)$$"
      ],
      "metadata": {
        "id": "3R0qq3OMM_cm"
      }
    },
    {
      "cell_type": "code",
      "source": [
        "def fonction_puissance_test(n):\n",
        "  lambda1 = np.linspace(1/10000000, 1/1000, 100)\n",
        "  p = 1 - stats.norm.cdf(x=1000, loc=1/lambda1, scale=np.sqrt(1/(n*(lambda1**2))))\n",
        "  plt.plot(lambda1, p, label=f'n={n}')"
      ],
      "metadata": {
        "id": "ljUlRFxYNEVD"
      },
      "execution_count": 71,
      "outputs": []
    },
    {
      "cell_type": "code",
      "source": [
        "fonction_puissance_test(10)\n",
        "fonction_puissance_test(50)\n",
        "fonction_puissance_test(100)\n",
        "fonction_puissance_test(500)\n",
        "fonction_puissance_test(100000)\n",
        "plt.legend()\n",
        "plt.show()"
      ],
      "metadata": {
        "colab": {
          "base_uri": "https://localhost:8080/",
          "height": 0
        },
        "id": "LrIMvGVWNPvZ",
        "outputId": "1f5f0ac3-391b-46f1-a97f-9f018e1617c3"
      },
      "execution_count": 72,
      "outputs": [
        {
          "output_type": "display_data",
          "data": {
            "text/plain": [
              "<Figure size 432x288 with 1 Axes>"
            ],
            "image/png": "[encoded data removed]"
          },
          "metadata": {
            "needs_background": "light"
          }
        }
      ]
    },
    {
      "cell_type": "markdown",
      "source": [
        "On pourrait faire les mêmes commentaires que pour la loi gamma."
      ],
      "metadata": {
        "id": "GcKRVsjrNo2P"
      }
    }
  ]
}